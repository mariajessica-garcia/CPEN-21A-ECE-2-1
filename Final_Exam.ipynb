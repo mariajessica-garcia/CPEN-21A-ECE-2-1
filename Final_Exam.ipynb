{
  "nbformat": 4,
  "nbformat_minor": 0,
  "metadata": {
    "colab": {
      "name": "Final_Exam.ipynb",
      "provenance": [],
      "collapsed_sections": [],
      "authorship_tag": "ABX9TyPtk1sDC6Ooa4WLWKxMzVHl",
      "include_colab_link": true
    },
    "kernelspec": {
      "name": "python3",
      "display_name": "Python 3"
    },
    "language_info": {
      "name": "python"
    }
  },
  "cells": [
    {
      "cell_type": "markdown",
      "metadata": {
        "id": "view-in-github",
        "colab_type": "text"
      },
      "source": [
        "<a href=\"https://colab.research.google.com/github/mariajessica-garcia/CPEN-21A-ECE-2-1/blob/main/Final_Exam.ipynb\" target=\"_parent\"><img src=\"https://colab.research.google.com/assets/colab-badge.svg\" alt=\"Open In Colab\"/></a>"
      ]
    },
    {
      "cell_type": "markdown",
      "source": [
        "#Final Exam"
      ],
      "metadata": {
        "id": "eCWs_70cLumo"
      }
    },
    {
      "cell_type": "markdown",
      "source": [
        "##Problem Statement 1"
      ],
      "metadata": {
        "id": "IzGQSCuTLxal"
      }
    },
    {
      "cell_type": "code",
      "source": [
        "num=[]\n",
        "x=0\n",
        "for x in range (1,11):\n",
        "  while True:\n",
        "    a=float(input(\"Input a Numerical Value:\"))\n",
        "    if a<5:\n",
        "      break\n",
        "    else:\n",
        "      print(\" Invalid Input! Input a numerical value less than 5\")\n",
        "    continue\n",
        "  num.append(a)\n",
        "  x+=1\n",
        "\n",
        "x=0\n",
        "sum=0\n",
        "print(\"The inputs you've entered are\", num)\n",
        "for x in num:\n",
        "  if x<5:\n",
        "    sum=sum+x\n",
        "print(\"The sum of the inputs less than 5 is\", sum)"
      ],
      "metadata": {
        "colab": {
          "base_uri": "https://localhost:8080/"
        },
        "id": "mvZiXJ6-W5xn",
        "outputId": "008b1294-b14e-4201-c6f5-36365dc40faa"
      },
      "execution_count": 15,
      "outputs": [
        {
          "output_type": "stream",
          "name": "stdout",
          "text": [
            "Input a Numerical Value:3\n",
            "Input a Numerical Value:2.5\n",
            "Input a Numerical Value:1\n",
            "Input a Numerical Value:6\n",
            " Invalid Input! Input a numerical value less than 5\n",
            "Input a Numerical Value:2\n",
            "Input a Numerical Value:4.9\n",
            "Input a Numerical Value:9\n",
            " Invalid Input! Input a numerical value less than 5\n",
            "Input a Numerical Value:1.8\n",
            "Input a Numerical Value:15\n",
            " Invalid Input! Input a numerical value less than 5\n",
            "Input a Numerical Value:1.25\n",
            "Input a Numerical Value:3.75\n",
            "Input a Numerical Value:4.1\n",
            "Input a Numerical Value:4\n",
            "The inputs you've entered are [3.0, 2.5, 1.0, 2.0, 4.9, 1.8, 1.25, 3.75, 4.1, 4.0]\n",
            "The sum of the inputs less than 5 is 28.300000000000004\n"
          ]
        }
      ]
    },
    {
      "cell_type": "markdown",
      "source": [
        "##Problem Statement 2"
      ],
      "metadata": {
        "id": "xdkGZOBGOJen"
      }
    },
    {
      "cell_type": "code",
      "source": [
        "num=1;\n",
        "data={};\n",
        "while(num <=5):\n",
        "  i=str(num);\n",
        "  data[num] = input(\"Enter Number:\")\n",
        "  print(\"Value for Number \"+ i +\" is \"+ data[num])\n",
        "  num+=1\n",
        "  if(num==6):\n",
        "    sum=int(data[1])+int(data[5])\n",
        "print(\"The sum of the first and last number is:\" +str(sum))"
      ],
      "metadata": {
        "colab": {
          "base_uri": "https://localhost:8080/"
        },
        "id": "uxgGqonvPf_V",
        "outputId": "dfbe2833-f4d7-45f8-9ac4-e01b7535d5d4"
      },
      "execution_count": 1,
      "outputs": [
        {
          "output_type": "stream",
          "name": "stdout",
          "text": [
            "Enter Number:4\n",
            "Value for Number 1 is 4\n",
            "Enter Number:2\n",
            "Value for Number 2 is 2\n",
            "Enter Number:1\n",
            "Value for Number 3 is 1\n",
            "Enter Number:3.5\n",
            "Value for Number 4 is 3.5\n",
            "Enter Number:5\n",
            "Value for Number 5 is 5\n",
            "The sum of the first and last number is:9\n"
          ]
        }
      ]
    },
    {
      "cell_type": "markdown",
      "source": [
        "##Problem Set 3"
      ],
      "metadata": {
        "id": "S38iFRwqQ14_"
      }
    },
    {
      "cell_type": "code",
      "source": [
        "grade=float(input(\"Enter your grade:\"))\n",
        "if grade >=90: print(\"A\")\n",
        "else:\n",
        "  if grade >=80: print(\"B\")\n",
        "  elif grade >=70: print(\"C\")\n",
        "  elif grade >=60: print(\"D\")\n",
        "  else: print(\"F\")"
      ],
      "metadata": {
        "colab": {
          "base_uri": "https://localhost:8080/"
        },
        "id": "XlBScf53Q4ZF",
        "outputId": "954ca3bd-b6f7-4649-9206-c81ce00f843a"
      },
      "execution_count": null,
      "outputs": [
        {
          "output_type": "stream",
          "name": "stdout",
          "text": [
            "Enter your grade:95\n",
            "A\n"
          ]
        }
      ]
    },
    {
      "cell_type": "code",
      "source": [
        "grade=float(input(\"Enter your grade:\"))\n",
        "if grade >=90: print(\"A\")\n",
        "else:\n",
        "  if grade >=80: print(\"B\")\n",
        "  elif grade >=70: print(\"C\")\n",
        "  elif grade >=60: print(\"D\")\n",
        "  else: print(\"F\")"
      ],
      "metadata": {
        "colab": {
          "base_uri": "https://localhost:8080/"
        },
        "id": "vNI-O238RXWd",
        "outputId": "1d554b7b-c050-446b-ae69-879869e89685"
      },
      "execution_count": null,
      "outputs": [
        {
          "output_type": "stream",
          "name": "stdout",
          "text": [
            "Enter your grade:59\n",
            "F\n"
          ]
        }
      ]
    }
  ]
}