{
  "nbformat": 4,
  "nbformat_minor": 0,
  "metadata": {
    "colab": {
      "name": "Lab1.ipynb",
      "provenance": [],
      "collapsed_sections": [],
      "authorship_tag": "ABX9TyN5oeFV6yZABWE1UIwZcpA8",
      "include_colab_link": true
    },
    "kernelspec": {
      "name": "python3",
      "display_name": "Python 3"
    },
    "language_info": {
      "name": "python"
    }
  },
  "cells": [
    {
      "cell_type": "markdown",
      "metadata": {
        "id": "view-in-github",
        "colab_type": "text"
      },
      "source": [
        "<a href=\"https://colab.research.google.com/github/mariajessica-garcia/CPEN-21A-ECE-2-1/blob/main/Lab1.ipynb\" target=\"_parent\"><img src=\"https://colab.research.google.com/assets/colab-badge.svg\" alt=\"Open In Colab\"/></a>"
      ]
    },
    {
      "cell_type": "markdown",
      "metadata": {
        "id": "_PG6LUaAyzgR"
      },
      "source": [
        "#Laboratory 1"
      ]
    },
    {
      "cell_type": "code",
      "metadata": {
        "colab": {
          "base_uri": "https://localhost:8080/"
        },
        "id": "_57tJrmcy8w1",
        "outputId": "c15bea95-b3be-4d16-8ae0-ddeaf6de5850"
      },
      "source": [
        "M=\"Welcome to Python Programming\"\n",
        "print(M)"
      ],
      "execution_count": 1,
      "outputs": [
        {
          "output_type": "stream",
          "name": "stdout",
          "text": [
            "Welcome to Python Programming\n"
          ]
        }
      ]
    },
    {
      "cell_type": "code",
      "metadata": {
        "colab": {
          "base_uri": "https://localhost:8080/"
        },
        "id": "64eYN3jhzCOT",
        "outputId": "9565cde6-b15d-4ae8-9266-eafeb4be12d4"
      },
      "source": [
        "J=\"Maria Jessica C Garcia\"\n",
        "C=\"Barangay Magdalo, Bahayang Pagasa Subd., Imus City, Cavite\"\n",
        "G=\"19 years of age\"\n",
        "print(\"Name:\" \" \"+ J)\n",
        "print(\"Address:\" \" \"+ C)\n",
        "print(\"Age:\" \" \"+ G)"
      ],
      "execution_count": 12,
      "outputs": [
        {
          "output_type": "stream",
          "name": "stdout",
          "text": [
            "Name: Maria Jessica C Garcia\n",
            "Address: Barangay Magdalo, Bahayang Pagasa Subd., Imus City, Cavite\n",
            "Age: 19 years of age\n"
          ]
        }
      ]
    }
  ]
}