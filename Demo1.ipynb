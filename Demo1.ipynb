{
  "nbformat": 4,
  "nbformat_minor": 0,
  "metadata": {
    "colab": {
      "name": "Demo1.ipynb",
      "provenance": [],
      "authorship_tag": "ABX9TyNfATZaJVvndT9pSb9WNKoj",
      "include_colab_link": true
    },
    "kernelspec": {
      "name": "python3",
      "display_name": "Python 3"
    },
    "language_info": {
      "name": "python"
    }
  },
  "cells": [
    {
      "cell_type": "markdown",
      "metadata": {
        "id": "view-in-github",
        "colab_type": "text"
      },
      "source": [
        "<a href=\"https://colab.research.google.com/github/mariajessica-garcia/CPEN-21A-ECE-2-1/blob/main/Demo1.ipynb\" target=\"_parent\"><img src=\"https://colab.research.google.com/assets/colab-badge.svg\" alt=\"Open In Colab\"/></a>"
      ]
    },
    {
      "cell_type": "markdown",
      "metadata": {
        "id": "3LoaNUuw2nDL"
      },
      "source": [
        "##Intro to Python Programming"
      ]
    },
    {
      "cell_type": "code",
      "metadata": {
        "colab": {
          "base_uri": "https://localhost:8080/"
        },
        "id": "8fCuvjho2q7L",
        "outputId": "6d53841a-e3fe-4439-b42a-25e7b4145efc"
      },
      "source": [
        "#Python Indentation\n",
        "if 5>2:\n",
        "  print(\"five is greater than two\")"
      ],
      "execution_count": 6,
      "outputs": [
        {
          "output_type": "stream",
          "name": "stdout",
          "text": [
            "five is greater than two\n"
          ]
        }
      ]
    },
    {
      "cell_type": "code",
      "metadata": {
        "colab": {
          "base_uri": "https://localhost:8080/"
        },
        "id": "BIAwON9t2lp3",
        "outputId": "164cf435-2fa3-4449-c225-e6f8d7629001"
      },
      "source": [
        "##Python Variable:\n",
        "x=1\n",
        "a, b=0, 1\n",
        "a,b,c=\"zero\",\"one\",\"two\"\n",
        "print(x)\n",
        "print(a)\n",
        "print(b)\n",
        "print(c)"
      ],
      "execution_count": 7,
      "outputs": [
        {
          "output_type": "stream",
          "name": "stdout",
          "text": [
            "1\n",
            "zero\n",
            "one\n",
            "two\n"
          ]
        }
      ]
    },
    {
      "cell_type": "code",
      "metadata": {
        "colab": {
          "base_uri": "https://localhost:8080/"
        },
        "id": "PeRUG_VL3Qa3",
        "outputId": "ac54ddb0-2467-437c-cd80-49609b08f130"
      },
      "source": [
        "d=\"Maria\" #This is a string\n",
        "D=\"Jessica\"\n",
        "print(d)\n",
        "e=\"Meri\"\n",
        "print(e)\n",
        "print(D)"
      ],
      "execution_count": 8,
      "outputs": [
        {
          "output_type": "stream",
          "name": "stdout",
          "text": [
            "Maria\n",
            "Meri\n",
            "Jessica\n"
          ]
        }
      ]
    },
    {
      "cell_type": "code",
      "metadata": {
        "colab": {
          "base_uri": "https://localhost:8080/"
        },
        "id": "SVKnAwfK4bUx",
        "outputId": "d1b76d27-a97f-4642-f3fa-df9483509d58"
      },
      "source": [
        "print(type(d)) #This is a type function\n",
        "print(type(x))"
      ],
      "execution_count": 10,
      "outputs": [
        {
          "output_type": "stream",
          "name": "stdout",
          "text": [
            "<class 'str'>\n",
            "<class 'int'>\n"
          ]
        }
      ]
    },
    {
      "cell_type": "markdown",
      "metadata": {
        "id": "v5vabO6U4mc9"
      },
      "source": [
        "##Casting"
      ]
    },
    {
      "cell_type": "code",
      "metadata": {
        "colab": {
          "base_uri": "https://localhost:8080/"
        },
        "id": "OgiSjq0T4u9s",
        "outputId": "882dc075-b244-4fea-f951-76f3cbae2893"
      },
      "source": [
        "f=float(4)\n",
        "print(f)\n",
        "g=float(5)\n",
        "g=int(5)\n",
        "print(g)"
      ],
      "execution_count": 18,
      "outputs": [
        {
          "output_type": "stream",
          "name": "stdout",
          "text": [
            "4.0\n",
            "5\n"
          ]
        }
      ]
    },
    {
      "cell_type": "markdown",
      "metadata": {
        "id": "FfI9sY9k47gy"
      },
      "source": [
        "##Multiple Variables in One Value"
      ]
    },
    {
      "cell_type": "code",
      "metadata": {
        "colab": {
          "base_uri": "https://localhost:8080/"
        },
        "id": "8mRIG0Qz4-rJ",
        "outputId": "74a6d238-bcac-477f-e3d7-e592cf1aeebc"
      },
      "source": [
        "x=y=z=\"four\"\n",
        "print(x)\n",
        "print(y)\n",
        "print(z)"
      ],
      "execution_count": 12,
      "outputs": [
        {
          "output_type": "stream",
          "name": "stdout",
          "text": [
            "four\n",
            "four\n",
            "four\n"
          ]
        }
      ]
    },
    {
      "cell_type": "code",
      "metadata": {
        "colab": {
          "base_uri": "https://localhost:8080/"
        },
        "id": "QZzb4PwM5L5J",
        "outputId": "ae2f6f82-2a3e-4cfb-a73e-33b98ddc3477"
      },
      "source": [
        "x=\"enjoying\"\n",
        "print(\"Python Programming is\" \" \" + x)"
      ],
      "execution_count": 13,
      "outputs": [
        {
          "output_type": "stream",
          "name": "stdout",
          "text": [
            "Python Programming is enjoying\n"
          ]
        }
      ]
    },
    {
      "cell_type": "markdown",
      "metadata": {
        "id": "8Y1zg5Qe5LYw"
      },
      "source": [
        "##Operation in Python"
      ]
    },
    {
      "cell_type": "code",
      "metadata": {
        "colab": {
          "base_uri": "https://localhost:8080/"
        },
        "id": "7mC-sSaN5Vvw",
        "outputId": "d46af8a4-abc5-4345-99d5-6ebab6418e15"
      },
      "source": [
        "x=5\n",
        "y=7\n",
        "x+= y #This is the same as x = x + y\n",
        "print(x+y)\n",
        "print(x*y)\n",
        "print(x)"
      ],
      "execution_count": 14,
      "outputs": [
        {
          "output_type": "stream",
          "name": "stdout",
          "text": [
            "19\n",
            "84\n",
            "12\n"
          ]
        }
      ]
    },
    {
      "cell_type": "code",
      "metadata": {
        "colab": {
          "base_uri": "https://localhost:8080/"
        },
        "id": "7lTXvvhG5k5Y",
        "outputId": "517a16c9-0b63-40bd-fac3-e01f7989c3f0"
      },
      "source": [
        "x=5\n",
        "y=7\n",
        "\n",
        "not(x>y or y==x)"
      ],
      "execution_count": 15,
      "outputs": [
        {
          "output_type": "execute_result",
          "data": {
            "text/plain": [
              "True"
            ]
          },
          "metadata": {},
          "execution_count": 15
        }
      ]
    },
    {
      "cell_type": "code",
      "metadata": {
        "colab": {
          "base_uri": "https://localhost:8080/"
        },
        "id": "VLp48HZ25vcj",
        "outputId": "828c1f64-1f60-4542-d46d-4c62425aec37"
      },
      "source": [
        "x is not y"
      ],
      "execution_count": 17,
      "outputs": [
        {
          "output_type": "execute_result",
          "data": {
            "text/plain": [
              "True"
            ]
          },
          "metadata": {},
          "execution_count": 17
        }
      ]
    },
    {
      "cell_type": "code",
      "metadata": {
        "colab": {
          "base_uri": "https://localhost:8080/"
        },
        "id": "I67ftVA-5sY3",
        "outputId": "8ef8b0e4-0a37-4d17-ea3b-22ecd0a5437c"
      },
      "source": [
        "x is y"
      ],
      "execution_count": 16,
      "outputs": [
        {
          "output_type": "execute_result",
          "data": {
            "text/plain": [
              "False"
            ]
          },
          "metadata": {},
          "execution_count": 16
        }
      ]
    }
  ]
}