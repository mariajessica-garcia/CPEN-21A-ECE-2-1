{
  "nbformat": 4,
  "nbformat_minor": 0,
  "metadata": {
    "colab": {
      "name": "Expressions and Operations.ipynb",
      "provenance": [],
      "authorship_tag": "ABX9TyO3g27SQaaLwIx93ztu/5/F",
      "include_colab_link": true
    },
    "kernelspec": {
      "name": "python3",
      "display_name": "Python 3"
    },
    "language_info": {
      "name": "python"
    }
  },
  "cells": [
    {
      "cell_type": "markdown",
      "metadata": {
        "id": "view-in-github",
        "colab_type": "text"
      },
      "source": [
        "<a href=\"https://colab.research.google.com/github/mariajessica-garcia/CPEN-21A-ECE-2-1/blob/main/Expressions_and_Operations.ipynb\" target=\"_parent\"><img src=\"https://colab.research.google.com/assets/colab-badge.svg\" alt=\"Open In Colab\"/></a>"
      ]
    },
    {
      "cell_type": "markdown",
      "metadata": {
        "id": "242ZuQc931Aq"
      },
      "source": [
        "##Boolean Operator"
      ]
    },
    {
      "cell_type": "code",
      "metadata": {
        "colab": {
          "base_uri": "https://localhost:8080/"
        },
        "id": "SDPgnn3z33pp",
        "outputId": "6eca7f54-a6b0-430f-cde7-c005af09a95f"
      },
      "source": [
        "x=1\n",
        "y=2\n",
        "\n",
        "y"
      ],
      "execution_count": 3,
      "outputs": [
        {
          "output_type": "execute_result",
          "data": {
            "text/plain": [
              "2"
            ]
          },
          "metadata": {},
          "execution_count": 3
        }
      ]
    },
    {
      "cell_type": "code",
      "metadata": {
        "colab": {
          "base_uri": "https://localhost:8080/"
        },
        "id": "o8g4z7E14CFI",
        "outputId": "e0db46a0-dffb-4812-ed8e-a7f89ccc282c"
      },
      "source": [
        "x=1\n",
        "y=2\n",
        "\n",
        "print(y)"
      ],
      "execution_count": 4,
      "outputs": [
        {
          "output_type": "stream",
          "name": "stdout",
          "text": [
            "2\n"
          ]
        }
      ]
    },
    {
      "cell_type": "code",
      "metadata": {
        "colab": {
          "base_uri": "https://localhost:8080/"
        },
        "id": "ltxStUE14F8w",
        "outputId": "b3de84a1-489b-4cba-f9c2-8767a5b16000"
      },
      "source": [
        "x=1\n",
        "y=2\n",
        "\n",
        "print(x>y)\n",
        "print(10>11)\n",
        "print(10==10)\n",
        "print(10!=11)"
      ],
      "execution_count": 7,
      "outputs": [
        {
          "output_type": "stream",
          "name": "stdout",
          "text": [
            "False\n",
            "False\n",
            "True\n",
            "True\n"
          ]
        }
      ]
    },
    {
      "cell_type": "code",
      "metadata": {
        "colab": {
          "base_uri": "https://localhost:8080/"
        },
        "id": "JU4_ysSn4raA",
        "outputId": "76d2bbc2-c3c0-459b-f1b7-a151a7830e4d"
      },
      "source": [
        "#using bool() function\n",
        "print(bool(\"Hello\"))\n",
        "print(bool(15))\n",
        "\n",
        "print(bool(True))\n",
        "print(bool(False))\n",
        "print(bool(None))\n",
        "print(bool(0))\n",
        "print(bool([]))"
      ],
      "execution_count": 10,
      "outputs": [
        {
          "output_type": "stream",
          "name": "stdout",
          "text": [
            "True\n",
            "True\n",
            "True\n",
            "False\n",
            "False\n",
            "False\n",
            "False\n"
          ]
        }
      ]
    },
    {
      "cell_type": "markdown",
      "metadata": {
        "id": "S70MgQsZ5S7H"
      },
      "source": [
        "###Functions can return Boolean"
      ]
    },
    {
      "cell_type": "code",
      "metadata": {
        "colab": {
          "base_uri": "https://localhost:8080/"
        },
        "id": "QH1MGJE95V4o",
        "outputId": "4a6fccef-50c9-4776-d9ce-2bab4c0f8de8"
      },
      "source": [
        "def myFunction(): return True\n",
        "print(myFunction())"
      ],
      "execution_count": 11,
      "outputs": [
        {
          "output_type": "stream",
          "name": "stdout",
          "text": [
            "True\n"
          ]
        }
      ]
    },
    {
      "cell_type": "code",
      "metadata": {
        "colab": {
          "base_uri": "https://localhost:8080/"
        },
        "id": "IZaJN_of5k7I",
        "outputId": "e4c4f7fa-ca66-4ed8-c184-977be5ac0718"
      },
      "source": [
        "def myFunction(): return False\n",
        "print(myFunction())"
      ],
      "execution_count": 12,
      "outputs": [
        {
          "output_type": "stream",
          "name": "stdout",
          "text": [
            "False\n"
          ]
        }
      ]
    },
    {
      "cell_type": "code",
      "metadata": {
        "colab": {
          "base_uri": "https://localhost:8080/"
        },
        "id": "7nOuSuzc5s-v",
        "outputId": "3ad5fc26-768d-4a4c-8176-b47d83578d21"
      },
      "source": [
        "def yourFunction(): return True\n",
        "if yourFunction():\n",
        "  print(\"Yes!\")\n",
        "else:\n",
        "  print(\"No!\")\n",
        "\n"
      ],
      "execution_count": 13,
      "outputs": [
        {
          "output_type": "stream",
          "name": "stdout",
          "text": [
            "Yes!\n"
          ]
        }
      ]
    },
    {
      "cell_type": "code",
      "metadata": {
        "colab": {
          "base_uri": "https://localhost:8080/"
        },
        "id": "XWJ2u4-n6Ika",
        "outputId": "744a86cc-3dea-4e5c-d38e-7b24ab522db3"
      },
      "source": [
        "def yourFunction(): return False\n",
        "if yourFunction():\n",
        "  print(\"Yes!\")\n",
        "else:\n",
        "  print(\"No!\")"
      ],
      "execution_count": 16,
      "outputs": [
        {
          "output_type": "stream",
          "name": "stdout",
          "text": [
            "No!\n"
          ]
        }
      ]
    },
    {
      "cell_type": "markdown",
      "metadata": {
        "id": "e5GscaW16Tab"
      },
      "source": [
        "###You try!\n"
      ]
    },
    {
      "cell_type": "code",
      "metadata": {
        "colab": {
          "base_uri": "https://localhost:8080/"
        },
        "id": "tjHaf1PW6VnK",
        "outputId": "349feb47-3ed7-4937-ab02-caf525d264a2"
      },
      "source": [
        "print(10>9)\n",
        "\n",
        "a=6\n",
        "b=7\n",
        "print(a==b)\n",
        "print(a!=a)"
      ],
      "execution_count": 17,
      "outputs": [
        {
          "output_type": "stream",
          "name": "stdout",
          "text": [
            "True\n",
            "False\n",
            "False\n"
          ]
        }
      ]
    },
    {
      "cell_type": "markdown",
      "metadata": {
        "id": "rv6vGZ9m8Thu"
      },
      "source": [
        "##Arithmetic Operators"
      ]
    },
    {
      "cell_type": "code",
      "metadata": {
        "colab": {
          "base_uri": "https://localhost:8080/"
        },
        "id": "y_liQnQS8W_l",
        "outputId": "08e13f06-2540-4743-d9df-8c1be8a8b6d2"
      },
      "source": [
        "print(10+5)\n",
        "print(10-5)\n",
        "print(10*5)\n",
        "print(10/5)\n",
        "print(10%5) #modulo division, remainder\n",
        "print(10//5) #floor division\n",
        "print(10//3) #floor division\n",
        "print(10%3) #3 x 3 = 9 + 1"
      ],
      "execution_count": 22,
      "outputs": [
        {
          "output_type": "stream",
          "name": "stdout",
          "text": [
            "15\n",
            "5\n",
            "50\n",
            "2.0\n",
            "0\n",
            "2\n",
            "3\n",
            "1\n"
          ]
        }
      ]
    },
    {
      "cell_type": "markdown",
      "metadata": {
        "id": "MIVuG7u89ckE"
      },
      "source": [
        "##Bitwise Operators"
      ]
    },
    {
      "cell_type": "code",
      "metadata": {
        "colab": {
          "base_uri": "https://localhost:8080/"
        },
        "id": "mS4EyKNg9eta",
        "outputId": "7ec7fbdc-a8a2-4bb9-d23c-376d95036018"
      },
      "source": [
        "a=60 # 0011 1100\n",
        "b=13 # 0000 1101\n",
        "\n",
        "print(a&b)\n",
        "print(a|b)\n",
        "print(a^b)\n",
        "print(~a)\n",
        "print(a<<1) # 0111 1000\n",
        "print(a<<2) # 1111 0000\n",
        "print(b>>1) # 1 0000 0110\n",
        "print(b>>2) # 0000  0011        carry flag bit = 01"
      ],
      "execution_count": 31,
      "outputs": [
        {
          "output_type": "stream",
          "name": "stdout",
          "text": [
            "12\n",
            "61\n",
            "49\n",
            "-61\n",
            "120\n",
            "240\n",
            "6\n",
            "3\n"
          ]
        }
      ]
    },
    {
      "cell_type": "markdown",
      "metadata": {
        "id": "YN7lFIT1B7-u"
      },
      "source": [
        "##Python Assignment Operators"
      ]
    },
    {
      "cell_type": "code",
      "metadata": {
        "colab": {
          "base_uri": "https://localhost:8080/"
        },
        "id": "G_KKh8oUB-8S",
        "outputId": "89b8e4ce-f652-48c2-ddf9-04c4637e10ad"
      },
      "source": [
        "a+=3 # Same As a = a + 3\n",
        "     # Same As a = 60 + 3, a = 63\n",
        "\n",
        "print(a)"
      ],
      "execution_count": 32,
      "outputs": [
        {
          "output_type": "stream",
          "name": "stdout",
          "text": [
            "63\n"
          ]
        }
      ]
    },
    {
      "cell_type": "markdown",
      "metadata": {
        "id": "Zl1Rhs2NCcjz"
      },
      "source": [
        "##Logical Operators"
      ]
    },
    {
      "cell_type": "code",
      "metadata": {
        "colab": {
          "base_uri": "https://localhost:8080/"
        },
        "id": "1ksF33CwCfHV",
        "outputId": "824fc805-1f03-4e08-ab19-e21b25ce231f"
      },
      "source": [
        "#and logical operator\n",
        "\n",
        "a = True\n",
        "b = False\n",
        "\n",
        "print(a and b)\n",
        "print(not(a and b))\n",
        "print(a or b)\n",
        "print(not(a or b))"
      ],
      "execution_count": 35,
      "outputs": [
        {
          "output_type": "stream",
          "name": "stdout",
          "text": [
            "False\n",
            "True\n",
            "True\n",
            "False\n"
          ]
        }
      ]
    },
    {
      "cell_type": "code",
      "metadata": {
        "colab": {
          "base_uri": "https://localhost:8080/"
        },
        "id": "m5Wk1IqGDF7c",
        "outputId": "8bf97a8b-9d35-48b6-84d4-5b5d5cc70a12"
      },
      "source": [
        "print(a is b)\n",
        "print(a is not b) "
      ],
      "execution_count": 36,
      "outputs": [
        {
          "output_type": "stream",
          "name": "stdout",
          "text": [
            "False\n",
            "True\n"
          ]
        }
      ]
    }
  ]
}