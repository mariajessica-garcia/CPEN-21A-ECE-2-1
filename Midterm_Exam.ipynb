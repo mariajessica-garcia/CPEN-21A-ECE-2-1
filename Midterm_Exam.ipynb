{
  "nbformat": 4,
  "nbformat_minor": 0,
  "metadata": {
    "colab": {
      "name": "Midterm Exam.ipynb",
      "provenance": [],
      "authorship_tag": "ABX9TyOxT+FCLnyjHG9XIn5wdtx2",
      "include_colab_link": true
    },
    "kernelspec": {
      "name": "python3",
      "display_name": "Python 3"
    },
    "language_info": {
      "name": "python"
    }
  },
  "cells": [
    {
      "cell_type": "markdown",
      "metadata": {
        "id": "view-in-github",
        "colab_type": "text"
      },
      "source": [
        "<a href=\"https://colab.research.google.com/github/mariajessica-garcia/CPEN-21A-ECE-2-1/blob/main/Midterm_Exam.ipynb\" target=\"_parent\"><img src=\"https://colab.research.google.com/assets/colab-badge.svg\" alt=\"Open In Colab\"/></a>"
      ]
    },
    {
      "cell_type": "markdown",
      "metadata": {
        "id": "PCCl5E0vDtFW"
      },
      "source": [
        "#Midterm Exam"
      ]
    },
    {
      "cell_type": "markdown",
      "metadata": {
        "id": "UzomyT4e26pU"
      },
      "source": [
        "##PROBLEM STATEMENT 1"
      ]
    },
    {
      "cell_type": "code",
      "metadata": {
        "colab": {
          "base_uri": "https://localhost:8080/"
        },
        "id": "fhRf8qy74FUk",
        "outputId": "95b48c9a-2760-476c-b78b-ae639535e1f0"
      },
      "source": [
        "a=\"Maria Jessica C Garcia\"\n",
        "b=\"202013730\"\n",
        "c=\"20 years of age\"\n",
        "d=\"November 09, 2001\"\n",
        "e=\"B22 L28 Alvarez St., Barangay Magdalo, Bahayang Pagasa Subd., Imus City, Cavite\"\n",
        "f=\"CPEN 21A - Programming Logic and Design\"\n",
        "g=\"1.25\"\n",
        "\n",
        "print(\"Name:\" \" \"+a)\n",
        "print(\"Student Number:\" \" \"+b)\n",
        "print(\"Age:\" \" \"+c)\n",
        "print(\"Birthday:\" \" \"+d)\n",
        "print(\"Address:\" \" \"+e)\n",
        "print(\"Course:\" \" \"+f)\n",
        "print(\"Last Sem GWA:\" \" \"+g)"
      ],
      "execution_count": 59,
      "outputs": [
        {
          "output_type": "stream",
          "name": "stdout",
          "text": [
            "Name: Maria Jessica C Garcia\n",
            "Student Number: 202013730\n",
            "Age: 20 years of age\n",
            "Birthday: November 09, 2001\n",
            "Address: B22 L28 Alvarez St., Barangay Magdalo, Bahayang Pagasa Subd., Imus City, Cavite\n",
            "Course: CPEN 21A - Programming Logic and Design\n",
            "Last Sem GWA: 1.25\n"
          ]
        }
      ]
    },
    {
      "cell_type": "markdown",
      "metadata": {
        "id": "V9-8sVVp4yy6"
      },
      "source": [
        "##PROBLEM STATEMENT 2"
      ]
    },
    {
      "cell_type": "code",
      "metadata": {
        "colab": {
          "base_uri": "https://localhost:8080/"
        },
        "id": "wc1roUe68nqI",
        "outputId": "9e737375-52aa-4600-a4d2-7a79f0e54a53"
      },
      "source": [
        "n=4\n",
        "answ=\"Y\"\n",
        "\n",
        "print((2<n) and (n<6)) #a\n",
        "print((2<n) or (n==6)) #b\n",
        "print(not(2<n) or (n==6)) #c\n",
        "print(not(n<6)) #d\n",
        "print((answ==\"Y\") or (answ==\"y\")) #e\n",
        "print((answ==\"Y\") and (answ==\"y\")) #f\n",
        "print(not(answ==\"y\")) #g\n",
        "print((2<n) and (n==5+1) or (answ==\"No\")) #h\n",
        "print((n==4) and (n==7) or (answ==\"Y\")) #i\n",
        "print(n==2) and ((n==7) or (answ==\"Y\")) #j"
      ],
      "execution_count": 60,
      "outputs": [
        {
          "output_type": "stream",
          "name": "stdout",
          "text": [
            "True\n",
            "True\n",
            "False\n",
            "False\n",
            "True\n",
            "False\n",
            "True\n",
            "False\n",
            "True\n",
            "False\n"
          ]
        }
      ]
    },
    {
      "cell_type": "markdown",
      "metadata": {
        "id": "N0Qx0RiJ_qK_"
      },
      "source": [
        "##PROBLEM STATEMENT 3"
      ]
    },
    {
      "cell_type": "code",
      "metadata": {
        "colab": {
          "base_uri": "https://localhost:8080/"
        },
        "id": "GC6uyMi2_t5H",
        "outputId": "be56572f-15e4-4b72-d9ff-8a7b407d0bf0"
      },
      "source": [
        "x=2\n",
        "y=-3\n",
        "w=7\n",
        "z=-10\n",
        "\n",
        "print(x/y) #a\n",
        "print(w/y/x) #b\n",
        "print(z/y%x) #c\n",
        "print(x%-y*w) #d\n",
        "print(x%y) #e\n",
        "print(z%w-y/x*5+5) #f\n",
        "print(9-x%(2+y)) #g\n",
        "print(z//w) #h\n",
        "print((2+y)**2) #i\n",
        "print(w/x*2) #j"
      ],
      "execution_count": 61,
      "outputs": [
        {
          "output_type": "stream",
          "name": "stdout",
          "text": [
            "-0.6666666666666666\n",
            "-1.1666666666666667\n",
            "1.3333333333333335\n",
            "14\n",
            "-1\n",
            "16.5\n",
            "9\n",
            "-2\n",
            "1\n",
            "7.0\n"
          ]
        }
      ]
    }
  ]
}