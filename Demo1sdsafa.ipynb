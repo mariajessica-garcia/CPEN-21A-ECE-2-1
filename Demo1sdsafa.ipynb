{
  "nbformat": 4,
  "nbformat_minor": 0,
  "metadata": {
    "colab": {
      "name": "Demo1sdsafa.ipynb",
      "provenance": [],
      "authorship_tag": "ABX9TyNNyCB1cqxV0VcpuZI2MrVw",
      "include_colab_link": true
    },
    "kernelspec": {
      "name": "python3",
      "display_name": "Python 3"
    },
    "language_info": {
      "name": "python"
    }
  },
  "cells": [
    {
      "cell_type": "markdown",
      "metadata": {
        "id": "view-in-github",
        "colab_type": "text"
      },
      "source": [
        "<a href=\"https://colab.research.google.com/github/mariajessica-garcia/CPEN-21A-ECE-2-1/blob/main/Demo1sdsafa.ipynb\" target=\"_parent\"><img src=\"https://colab.research.google.com/assets/colab-badge.svg\" alt=\"Open In Colab\"/></a>"
      ]
    },
    {
      "cell_type": "markdown",
      "metadata": {
        "id": "mo8uqn0Sy6h8"
      },
      "source": [
        "##Introduction to Python Programming"
      ]
    },
    {
      "cell_type": "code",
      "metadata": {
        "colab": {
          "base_uri": "https://localhost:8080/",
          "height": 129
        },
        "id": "9Pf0BvI1zEF_",
        "outputId": "baa91079-7a2c-4dab-894e-8feedf6cdf35"
      },
      "source": [
        "##Python Indention\n",
        "if 5>2:\n",
        "print(\"five is greater than two\")"
      ],
      "execution_count": 10,
      "outputs": [
        {
          "output_type": "error",
          "ename": "IndentationError",
          "evalue": "ignored",
          "traceback": [
            "\u001b[0;36m  File \u001b[0;32m\"<ipython-input-10-5af28f435cb5>\"\u001b[0;36m, line \u001b[0;32m3\u001b[0m\n\u001b[0;31m    print(\"five is greater than two\")\u001b[0m\n\u001b[0m        ^\u001b[0m\n\u001b[0;31mIndentationError\u001b[0m\u001b[0;31m:\u001b[0m expected an indented block\n"
          ]
        }
      ]
    },
    {
      "cell_type": "markdown",
      "metadata": {
        "id": "TzRPM36N2NIz"
      },
      "source": [
        "###Intro to Python Programming"
      ]
    },
    {
      "cell_type": "markdown",
      "metadata": {
        "id": "DV82QA3l2Ri6"
      },
      "source": [
        ""
      ]
    },
    {
      "cell_type": "code",
      "metadata": {
        "id": "a-O6xyvYrDER"
      },
      "source": [
        "##Introduction to Python Programming"
      ],
      "execution_count": 2,
      "outputs": []
    },
    {
      "cell_type": "code",
      "metadata": {
        "id": "14f5XaiOy-zv"
      },
      "source": [
        ""
      ],
      "execution_count": null,
      "outputs": []
    },
    {
      "cell_type": "markdown",
      "metadata": {
        "id": "HqSNIUAdy-Cu"
      },
      "source": [
        ""
      ]
    },
    {
      "cell_type": "markdown",
      "metadata": {
        "id": "a2rEP6NSzKGV"
      },
      "source": [
        "#Python Variable"
      ]
    },
    {
      "cell_type": "code",
      "metadata": {
        "id": "LjBoYCGMzNxm"
      },
      "source": [
        ""
      ],
      "execution_count": null,
      "outputs": []
    },
    {
      "cell_type": "code",
      "metadata": {
        "id": "OlubFnEAtzba"
      },
      "source": [
        "#Phython Variable"
      ],
      "execution_count": null,
      "outputs": []
    },
    {
      "cell_type": "markdown",
      "metadata": {
        "id": "w6xdpxgLurYa"
      },
      "source": [
        "##Python Programming\n"
      ]
    },
    {
      "cell_type": "markdown",
      "metadata": {
        "id": "N0hHlbthxSDI"
      },
      "source": [
        ""
      ]
    },
    {
      "cell_type": "code",
      "metadata": {
        "id": "XDjYRQLaxRty"
      },
      "source": [
        ""
      ],
      "execution_count": null,
      "outputs": []
    },
    {
      "cell_type": "code",
      "metadata": {
        "colab": {
          "base_uri": "https://localhost:8080/"
        },
        "id": "mg9vX1P0uv2s",
        "outputId": "ef65868a-c1d9-44a3-947e-2b0666d26764"
      },
      "source": [
        "x = 'enjoying'\n",
        "print(\"Python programming is\" \" \"+x)\n"
      ],
      "execution_count": 7,
      "outputs": [
        {
          "output_type": "stream",
          "name": "stdout",
          "text": [
            "Python programming is enjoying\n"
          ]
        }
      ]
    },
    {
      "cell_type": "markdown",
      "metadata": {
        "id": "dIDxCxp8ukUL"
      },
      "source": [
        "##Casting"
      ]
    },
    {
      "cell_type": "code",
      "metadata": {
        "id": "9hSLyymlumgD"
      },
      "source": [
        ""
      ],
      "execution_count": null,
      "outputs": []
    },
    {
      "cell_type": "code",
      "metadata": {
        "id": "jp_0eICAz8Yb"
      },
      "source": [
        "x=5\n",
        "y=7\n",
        "\n",
        "not(x>y or y=="
      ],
      "execution_count": null,
      "outputs": []
    }
  ]
}